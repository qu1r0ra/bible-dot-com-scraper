{
 "cells": [
  {
   "cell_type": "code",
   "execution_count": 4,
   "id": "755a8eeb",
   "metadata": {},
   "outputs": [
    {
     "name": "stdout",
     "output_type": "stream",
     "text": [
      "Processed 0 files.\n",
      "Output root: /Users/armina/Documents/GitHub/bible-dot-com-scraper/parser/sentence/yna/Cebuano\n"
     ]
    }
   ],
   "source": [
    "# --- Setup (OS-based)\n",
    "import os\n",
    "import re\n",
    "\n",
    "# --- Configure your folders\n",
    "IN_ROOT  = \"parser/yna/Cebuano\"\n",
    "OUT_ROOT = \"sentence/yna/Cebuano\"\n",
    "\n",
    "# --- Regexes\n",
    "HEADER_RE = re.compile(r'(?im)^\\s*ORIGINAL\\s+TEXT\\s*\\n?')\n",
    "# Verse markers like \"1CO.1.11\" at the start of lines\n",
    "VERSE_RE  = re.compile(r'(?m)^\\s*(?:[1-3]?[A-Z]{2,}\\.\\d+\\.\\d+)\\s*')\n",
    "\n",
    "# --- Cleaning function\n",
    "def clean_and_sentence_break(text: str) -> str:\n",
    "    # 1) Drop header labels\n",
    "    text = HEADER_RE.sub(\"\", text)\n",
    "\n",
    "    # 2) Strip verse markers at line starts\n",
    "    text = VERSE_RE.sub(\"\", text)\n",
    "\n",
    "    # 3) Turn all newlines into spaces; collapse multiple spaces\n",
    "    text = re.sub(r'[ \\t]*\\n[ \\t]*', ' ', text)\n",
    "    text = re.sub(r'\\s{2,}', ' ', text).strip()\n",
    "\n",
    "    # 4) Split using your rule:\n",
    "    #    - If . ! ? is followed by ” or \" then sentence ends AFTER the quote\n",
    "    #    - Else, sentence ends right after . ! ?\n",
    "    SPLIT_RE = re.compile(r'(?:(?<=[.!?][”\"])\\s+|(?<=[.!?])\\s+)')\n",
    "    sentences = [s.strip() for s in SPLIT_RE.split(text) if s.strip()]\n",
    "\n",
    "    # 5) One sentence per paragraph\n",
    "    return \"\\n\\n\".join(sentences) + \"\\n\"\n",
    "\n",
    "# --- Batch process: mirror IN_ROOT into OUT_ROOT\n",
    "count = 0\n",
    "for root, dirs, files in os.walk(IN_ROOT):\n",
    "    for fname in files:\n",
    "        if not fname.lower().endswith(\".txt\"):\n",
    "            continue\n",
    "\n",
    "        in_path = os.path.join(root, fname)\n",
    "        # relative path (to mirror folder structure)\n",
    "        rel_path = os.path.relpath(in_path, IN_ROOT)\n",
    "        out_path = os.path.join(OUT_ROOT, rel_path)\n",
    "\n",
    "        # ensure output directory exists\n",
    "        out_dir = os.path.dirname(out_path)\n",
    "        os.makedirs(out_dir, exist_ok=True)\n",
    "\n",
    "        # read -> clean -> write\n",
    "        with open(in_path, \"r\", encoding=\"utf-8\", errors=\"ignore\") as f:\n",
    "            raw = f.read()\n",
    "        cleaned = clean_and_sentence_break(raw)\n",
    "        with open(out_path, \"w\", encoding=\"utf-8\") as f:\n",
    "            f.write(cleaned)\n",
    "\n",
    "        count += 1\n",
    "\n",
    "print(f\"Processed {count} files.\")\n",
    "print(\"Output root:\", os.path.abspath(OUT_ROOT))"
   ]
  }
 ],
 "metadata": {
  "kernelspec": {
   "display_name": "Python 3",
   "language": "python",
   "name": "python3"
  },
  "language_info": {
   "codemirror_mode": {
    "name": "ipython",
    "version": 3
   },
   "file_extension": ".py",
   "mimetype": "text/x-python",
   "name": "python",
   "nbconvert_exporter": "python",
   "pygments_lexer": "ipython3",
   "version": "3.9.6"
  }
 },
 "nbformat": 4,
 "nbformat_minor": 5
}
